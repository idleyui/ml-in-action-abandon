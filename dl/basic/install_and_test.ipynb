{
 "cells": [
  {
   "cell_type": "markdown",
   "metadata": {},
   "source": [
    "# Tensorflow 环境搭建及测试"
   ]
  },
  {
   "cell_type": "markdown",
   "metadata": {},
   "source": [
    "测试安装"
   ]
  },
  {
   "cell_type": "code",
   "execution_count": 2,
   "metadata": {},
   "outputs": [
    {
     "data": {
      "text/plain": [
       "'1.11.0'"
      ]
     },
     "execution_count": 2,
     "metadata": {},
     "output_type": "execute_result"
    }
   ],
   "source": [
    "import tensorflow as tf\n",
    "import numpy as np\n",
    "tf.__version__"
   ]
  },
  {
   "cell_type": "markdown",
   "metadata": {},
   "source": [
    "## 定义参数，输入和输出节点"
   ]
  },
  {
   "cell_type": "code",
   "execution_count": 21,
   "metadata": {},
   "outputs": [
    {
     "data": {
      "text/plain": [
       "(<tf.Variable 'Variable_8:0' shape=(100, 100) dtype=float32_ref>,\n",
       " <tf.Variable 'Variable_9:0' shape=(100, 100) dtype=float32_ref>,\n",
       " <tf.Tensor 'x-input_4:0' shape=(?, 100) dtype=float32>,\n",
       " <tf.Tensor 'y-input_4:0' shape=(?, 1) dtype=float32>)"
      ]
     },
     "execution_count": 21,
     "metadata": {},
     "output_type": "execute_result"
    }
   ],
   "source": [
    "batch_size = 8\n",
    "w1= tf.Variable(tf.random_normal([100, 100], stddev=1, seed=1))\n",
    "w2= tf.Variable(tf.random_normal([100, 100], stddev=1, seed=1))\n",
    "x = tf.placeholder(tf.float32, shape=(None, 100), name=\"x-input\")\n",
    "y_= tf.placeholder(tf.float32, shape=(None, 1), name='y-input')\n",
    "w1, w2, x, y_"
   ]
  },
  {
   "cell_type": "markdown",
   "metadata": {},
   "source": [
    "## 定义前向传播过程，损失函数和反向传播算法"
   ]
  },
  {
   "cell_type": "code",
   "execution_count": 22,
   "metadata": {},
   "outputs": [],
   "source": [
    "a = tf.matmul(x, w1)\n",
    "y = tf.matmul(a, w2)\n",
    "y = tf.sigmoid(y)\n",
    "cross_entropy = -tf.reduce_mean(y_ * tf.log(tf.clip_by_value(y, 1e-10, 1.0))\n",
    "                                + (1 - y_) * tf.log(tf.clip_by_value(1 - y, 1e-10, 1.0)))\n",
    "learning_rate = 0.001\n",
    "train_step = tf.train.AdamOptimizer(learning_rate).minimize(cross_entropy)"
   ]
  },
  {
   "cell_type": "markdown",
   "metadata": {},
   "source": [
    "## 生成模拟数据集"
   ]
  },
  {
   "cell_type": "code",
   "execution_count": 23,
   "metadata": {},
   "outputs": [],
   "source": [
    "rdm = np.random.RandomState(1)\n",
    "X = rdm.rand(128,100)\n",
    "Y = [[int(sum(x) < 50)] for x in X]"
   ]
  },
  {
   "cell_type": "markdown",
   "metadata": {},
   "source": [
    "## 创建会话运行 tensorflow 程序"
   ]
  },
  {
   "cell_type": "code",
   "execution_count": 24,
   "metadata": {},
   "outputs": [
    {
     "name": "stdout",
     "output_type": "stream",
     "text": [
      "[[-0.8113182   1.4845988   0.06532937 ...  0.36240223 -2.7669072\n",
      "   1.9807922 ]\n",
      " [ 0.15743099  0.5263604  -2.2120235  ... -1.8342832   0.631131\n",
      "  -0.24619082]\n",
      " [ 1.0542018  -0.75265557 -0.6515841  ...  1.7162865  -0.09378374\n",
      "   0.33990505]\n",
      " ...\n",
      " [ 0.02624949 -1.0495203  -0.63945365 ... -0.9287379   1.2584059\n",
      "  -1.685026  ]\n",
      " [ 0.676028    0.00873612  0.4046848  ...  0.99804413  0.6139806\n",
      "   0.28644598]\n",
      " [-0.04969252 -0.45393836 -0.37356263 ...  0.77633905  1.5767121\n",
      "  -0.28991485]]\n",
      "[[-0.8113182   1.4845988   0.06532937 ...  0.36240223 -2.7669072\n",
      "   1.9807922 ]\n",
      " [ 0.15743099  0.5263604  -2.2120235  ... -1.8342832   0.631131\n",
      "  -0.24619082]\n",
      " [ 1.0542018  -0.75265557 -0.6515841  ...  1.7162865  -0.09378374\n",
      "   0.33990505]\n",
      " ...\n",
      " [ 0.02624949 -1.0495203  -0.63945365 ... -0.9287379   1.2584059\n",
      "  -1.685026  ]\n",
      " [ 0.676028    0.00873612  0.4046848  ...  0.99804413  0.6139806\n",
      "   0.28644598]\n",
      " [-0.04969252 -0.45393836 -0.37356263 ...  0.77633905  1.5767121\n",
      "  -0.28991485]]\n",
      "\n",
      "\n",
      "After 0 training step(s), cross entropy on all data is 9.86772\n",
      "After 1000 training step(s), cross entropy on all data is 6.72843\n",
      "After 2000 training step(s), cross entropy on all data is 5.59998\n",
      "After 3000 training step(s), cross entropy on all data is 4.63707\n",
      "After 4000 training step(s), cross entropy on all data is 3.91233\n",
      "\n",
      "\n",
      "[[-0.87312245  1.1215206   0.10911087 ... -0.23079334 -2.504086\n",
      "   2.222264  ]\n",
      " [ 0.39484137  0.03051977 -2.218019   ... -1.6875634   0.55620795\n",
      "  -0.20220102]\n",
      " [ 1.3039998  -0.17566034 -0.77145016 ...  2.294954   -0.48247024\n",
      "  -0.27688947]\n",
      " ...\n",
      " [-0.17204738 -1.1685661  -1.1279415  ... -1.1552911   1.3896328\n",
      "  -1.6125764 ]\n",
      " [ 0.9277001   0.8166401   0.2204916  ...  1.6172894   0.6222189\n",
      "  -0.11442555]\n",
      " [ 0.3542457   0.16140725 -0.75395966 ...  1.3233792   0.74808025\n",
      "  -0.3132411 ]]\n",
      "[[-0.84781367  1.0436201  -0.15336365 ...  0.14125897 -3.0433025\n",
      "   1.2975392 ]\n",
      " [ 0.08510231  0.35009268 -1.8717612  ... -1.8556322   0.5570919\n",
      "  -0.32393098]\n",
      " [ 0.9453927  -0.70829266 -0.5821477  ...  0.77533495 -0.09268589\n",
      "   0.8048809 ]\n",
      " ...\n",
      " [-0.20075135 -1.3676254  -0.95915616 ... -1.0254978   0.69948334\n",
      "  -2.1876273 ]\n",
      " [ 0.721396    0.02150441  0.3631002  ...  1.0411398   0.54904705\n",
      "   0.12970634]\n",
      " [-0.25952616 -0.12353905 -0.4024752  ...  0.76744777  1.7027229\n",
      "   0.423776  ]]\n"
     ]
    }
   ],
   "source": [
    "with tf.Session() as sess:\n",
    "    init_op = tf.global_variables_initializer()\n",
    "    sess.run(init_op)\n",
    "    \n",
    "    # 输出目前（未经训练）的参数取值。\n",
    "    print(sess.run(w1))\n",
    "    print(sess.run(w2))\n",
    "    print(\"\\n\")\n",
    "    \n",
    "    # 训练模型。\n",
    "    STEPS = 5000\n",
    "    for i in range(STEPS):\n",
    "        start = (i*batch_size) % 128\n",
    "        end = (i*batch_size) % 128 + batch_size\n",
    "        sess.run([train_step, y, y_], feed_dict={x: X[start:end], y_: Y[start:end]})\n",
    "        if i % 1000 == 0:\n",
    "            total_cross_entropy = sess.run(cross_entropy, feed_dict={x: X, y_: Y})\n",
    "            print(\"After %d training step(s), cross entropy on all data is %g\" % (i, total_cross_entropy))\n",
    "    \n",
    "    # 输出训练后的参数取值。\n",
    "    print(\"\\n\")\n",
    "    print(sess.run(w1))\n",
    "    print(sess.run(w2))"
   ]
  },
  {
   "cell_type": "code",
   "execution_count": null,
   "metadata": {},
   "outputs": [],
   "source": []
  }
 ],
 "metadata": {
  "kernelspec": {
   "display_name": "Python 3",
   "language": "python",
   "name": "python3"
  },
  "language_info": {
   "codemirror_mode": {
    "name": "ipython",
    "version": 3
   },
   "file_extension": ".py",
   "mimetype": "text/x-python",
   "name": "python",
   "nbconvert_exporter": "python",
   "pygments_lexer": "ipython3",
   "version": "3.5.2"
  },
  "toc": {
   "base_numbering": 1.0,
   "nav_menu": {},
   "number_sections": true,
   "sideBar": true,
   "skip_h1_title": false,
   "title_cell": "Table of Contents",
   "title_sidebar": "Contents",
   "toc_cell": false,
   "toc_position": {},
   "toc_section_display": true,
   "toc_window_display": false
  }
 },
 "nbformat": 4,
 "nbformat_minor": 2
}
